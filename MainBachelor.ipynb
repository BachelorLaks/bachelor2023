{
 "cells": [
  {
   "cell_type": "code",
   "execution_count": 1,
   "metadata": {},
   "outputs": [
    {
     "name": "stdout",
     "output_type": "stream",
     "text": [
      "klarer man en commit da?\n"
     ]
    }
   ],
   "source": [
    "print('klarer man en commit da?')\n",
    "print('test1')"
   ]
  }
 ],
 "metadata": {
  "kernelspec": {
   "display_name": "bachelor2023",
   "language": "python",
   "name": "python3"
  },
  "language_info": {
   "codemirror_mode": {
    "name": "ipython",
    "version": 3
   },
   "file_extension": ".py",
   "mimetype": "text/x-python",
   "name": "python",
   "nbconvert_exporter": "python",
   "pygments_lexer": "ipython3",
   "version": "3.10.9"
  },
  "orig_nbformat": 4,
  "vscode": {
   "interpreter": {
    "hash": "994b5ae3d22c266fb12379188117233d83098071913efe9bf0d2f8676bda8b53"
   }
  }
 },
 "nbformat": 4,
 "nbformat_minor": 2
}
