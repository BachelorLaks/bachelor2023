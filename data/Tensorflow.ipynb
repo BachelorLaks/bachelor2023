{
 "cells": [
  {
   "attachments": {},
   "cell_type": "markdown",
   "metadata": {},
   "source": [
    "## Tensorflow-model"
   ]
  },
  {
   "cell_type": "code",
   "execution_count": 141,
   "metadata": {},
   "outputs": [],
   "source": [
    "# Import packages for tensorflow\n",
    "import tensorflow as tf\n",
    "import numpy as np\n",
    "import matplotlib.pyplot as plt\n",
    "import pandas as pd\n",
    "import seaborn as sns\n",
    "from sklearn import metrics\n",
    "\n",
    "from sklearn.model_selection import train_test_split\n",
    "\n",
    "from tensorflow import keras\n",
    "from tensorflow.keras import Sequential\n",
    "from tensorflow.keras.layers import Flatten, Dense\n",
    "from tensorflow.keras.preprocessing.sequence import TimeseriesGenerator\n",
    "from sklearn.model_selection import train_test_split\n",
    "from sklearn.preprocessing import LabelEncoder\n",
    "from sklearn.preprocessing import OrdinalEncoder\n",
    "from sklearn.feature_selection import SelectKBest\n",
    "from sklearn.feature_selection import chi2\n",
    "from sklearn.metrics import confusion_matrix, accuracy_score, classification_report\n",
    "from sklearn.preprocessing import StandardScaler\n",
    "from sklearn.preprocessing import MinMaxScaler"
   ]
  },
  {
   "cell_type": "code",
   "execution_count": 142,
   "metadata": {},
   "outputs": [],
   "source": [
    "var_set = pd.read_csv('var_set.csv', parse_dates=[0],index_col=[0])"
   ]
  },
  {
   "cell_type": "code",
   "execution_count": 143,
   "metadata": {},
   "outputs": [],
   "source": [
    "var_set['month'] = pd.DatetimeIndex(var_set.index).month"
   ]
  },
  {
   "cell_type": "code",
   "execution_count": 144,
   "metadata": {},
   "outputs": [
    {
     "data": {
      "text/html": [
       "<div>\n",
       "<style scoped>\n",
       "    .dataframe tbody tr th:only-of-type {\n",
       "        vertical-align: middle;\n",
       "    }\n",
       "\n",
       "    .dataframe tbody tr th {\n",
       "        vertical-align: top;\n",
       "    }\n",
       "\n",
       "    .dataframe thead th {\n",
       "        text-align: right;\n",
       "    }\n",
       "</style>\n",
       "<table border=\"1\" class=\"dataframe\">\n",
       "  <thead>\n",
       "    <tr style=\"text-align: right;\">\n",
       "      <th></th>\n",
       "      <th>SalmonPrice</th>\n",
       "      <th>CodPrice</th>\n",
       "      <th>HalibutPrice</th>\n",
       "      <th>CPI</th>\n",
       "      <th>TWI</th>\n",
       "      <th>month</th>\n",
       "    </tr>\n",
       "  </thead>\n",
       "  <tbody>\n",
       "    <tr>\n",
       "      <th>2013-04-07</th>\n",
       "      <td>39.63</td>\n",
       "      <td>10.754267</td>\n",
       "      <td>47.577612</td>\n",
       "      <td>95.55</td>\n",
       "      <td>92.1500</td>\n",
       "      <td>4</td>\n",
       "    </tr>\n",
       "    <tr>\n",
       "      <th>2013-04-14</th>\n",
       "      <td>41.89</td>\n",
       "      <td>10.800751</td>\n",
       "      <td>47.924958</td>\n",
       "      <td>95.70</td>\n",
       "      <td>92.1920</td>\n",
       "      <td>4</td>\n",
       "    </tr>\n",
       "    <tr>\n",
       "      <th>2013-04-21</th>\n",
       "      <td>43.07</td>\n",
       "      <td>10.774089</td>\n",
       "      <td>47.092639</td>\n",
       "      <td>95.85</td>\n",
       "      <td>92.7980</td>\n",
       "      <td>4</td>\n",
       "    </tr>\n",
       "    <tr>\n",
       "      <th>2013-04-28</th>\n",
       "      <td>42.70</td>\n",
       "      <td>10.569605</td>\n",
       "      <td>47.193296</td>\n",
       "      <td>96.00</td>\n",
       "      <td>93.8080</td>\n",
       "      <td>4</td>\n",
       "    </tr>\n",
       "    <tr>\n",
       "      <th>2013-05-05</th>\n",
       "      <td>41.81</td>\n",
       "      <td>10.605343</td>\n",
       "      <td>48.987917</td>\n",
       "      <td>96.02</td>\n",
       "      <td>93.3125</td>\n",
       "      <td>5</td>\n",
       "    </tr>\n",
       "    <tr>\n",
       "      <th>...</th>\n",
       "      <td>...</td>\n",
       "      <td>...</td>\n",
       "      <td>...</td>\n",
       "      <td>...</td>\n",
       "      <td>...</td>\n",
       "      <td>...</td>\n",
       "    </tr>\n",
       "    <tr>\n",
       "      <th>2022-11-20</th>\n",
       "      <td>82.49</td>\n",
       "      <td>39.417280</td>\n",
       "      <td>76.897925</td>\n",
       "      <td>128.50</td>\n",
       "      <td>122.2180</td>\n",
       "      <td>11</td>\n",
       "    </tr>\n",
       "    <tr>\n",
       "      <th>2022-11-27</th>\n",
       "      <td>79.03</td>\n",
       "      <td>39.071706</td>\n",
       "      <td>73.642666</td>\n",
       "      <td>128.40</td>\n",
       "      <td>122.0320</td>\n",
       "      <td>11</td>\n",
       "    </tr>\n",
       "    <tr>\n",
       "      <th>2022-12-04</th>\n",
       "      <td>78.05</td>\n",
       "      <td>42.701713</td>\n",
       "      <td>73.193629</td>\n",
       "      <td>128.70</td>\n",
       "      <td>120.8780</td>\n",
       "      <td>12</td>\n",
       "    </tr>\n",
       "    <tr>\n",
       "      <th>2022-12-11</th>\n",
       "      <td>75.83</td>\n",
       "      <td>43.652968</td>\n",
       "      <td>74.156841</td>\n",
       "      <td>129.00</td>\n",
       "      <td>122.7060</td>\n",
       "      <td>12</td>\n",
       "    </tr>\n",
       "    <tr>\n",
       "      <th>2022-12-18</th>\n",
       "      <td>86.64</td>\n",
       "      <td>49.076318</td>\n",
       "      <td>79.182888</td>\n",
       "      <td>129.30</td>\n",
       "      <td>122.3580</td>\n",
       "      <td>12</td>\n",
       "    </tr>\n",
       "  </tbody>\n",
       "</table>\n",
       "<p>507 rows × 6 columns</p>\n",
       "</div>"
      ],
      "text/plain": [
       "            SalmonPrice   CodPrice  HalibutPrice     CPI       TWI  month\n",
       "2013-04-07        39.63  10.754267     47.577612   95.55   92.1500      4\n",
       "2013-04-14        41.89  10.800751     47.924958   95.70   92.1920      4\n",
       "2013-04-21        43.07  10.774089     47.092639   95.85   92.7980      4\n",
       "2013-04-28        42.70  10.569605     47.193296   96.00   93.8080      4\n",
       "2013-05-05        41.81  10.605343     48.987917   96.02   93.3125      5\n",
       "...                 ...        ...           ...     ...       ...    ...\n",
       "2022-11-20        82.49  39.417280     76.897925  128.50  122.2180     11\n",
       "2022-11-27        79.03  39.071706     73.642666  128.40  122.0320     11\n",
       "2022-12-04        78.05  42.701713     73.193629  128.70  120.8780     12\n",
       "2022-12-11        75.83  43.652968     74.156841  129.00  122.7060     12\n",
       "2022-12-18        86.64  49.076318     79.182888  129.30  122.3580     12\n",
       "\n",
       "[507 rows x 6 columns]"
      ]
     },
     "execution_count": 144,
     "metadata": {},
     "output_type": "execute_result"
    }
   ],
   "source": [
    "var_set"
   ]
  },
  {
   "cell_type": "code",
   "execution_count": 145,
   "metadata": {},
   "outputs": [],
   "source": [
    "X = var_set.drop(columns=[\"SalmonPrice\"], axis = 1)\n",
    "y = var_set[\"SalmonPrice\"]"
   ]
  },
  {
   "cell_type": "code",
   "execution_count": 146,
   "metadata": {},
   "outputs": [],
   "source": [
    "X_train, X_test, y_train, y_test = train_test_split(X, y, test_size = 50, shuffle=False)"
   ]
  },
  {
   "cell_type": "code",
   "execution_count": 147,
   "metadata": {},
   "outputs": [],
   "source": [
    "x_uni = var_set[\"SalmonPrice\"]"
   ]
  },
  {
   "cell_type": "code",
   "execution_count": 148,
   "metadata": {},
   "outputs": [],
   "source": [
    "x_uni_train,y_uni_test = train_test_split(x_uni, test_size = 50, shuffle=False)"
   ]
  },
  {
   "cell_type": "code",
   "execution_count": 149,
   "metadata": {},
   "outputs": [
    {
     "data": {
      "text/plain": [
       "457"
      ]
     },
     "execution_count": 149,
     "metadata": {},
     "output_type": "execute_result"
    }
   ],
   "source": [
    "len(X_train)"
   ]
  },
  {
   "cell_type": "code",
   "execution_count": 150,
   "metadata": {},
   "outputs": [],
   "source": [
    "# Scale x and y multivariate\n",
    "scaler = MinMaxScaler()\n",
    "X_train = scaler.fit_transform(X_train)\n",
    "X_test = scaler.transform(X_test)\n",
    "\n",
    "# Scale y\n",
    "scaler = MinMaxScaler()\n",
    "y_train = scaler.fit_transform(y_train.values.reshape(-1,1))\n",
    "y_test = scaler.transform(y_test.values.reshape(-1,1))"
   ]
  },
  {
   "cell_type": "code",
   "execution_count": 151,
   "metadata": {},
   "outputs": [],
   "source": [
    "# Scale x and y multivariate\n",
    "scaler = MinMaxScaler()\n",
    "x_uni_train = scaler.fit_transform(x_uni_train.values.reshape(-1,1))\n",
    "y_uni_test = scaler.transform(y_uni_test.values.reshape(-1,1))"
   ]
  },
  {
   "cell_type": "code",
   "execution_count": 152,
   "metadata": {},
   "outputs": [],
   "source": [
    "\n",
    "scaler = MinMaxScaler()\n",
    "x_minmax_train = scaler.fit_transform(x_uni_train)\n",
    "y_minmax_test = scaler.transform(y_uni_test)"
   ]
  },
  {
   "cell_type": "code",
   "execution_count": 135,
   "metadata": {},
   "outputs": [],
   "source": [
    "generated_batches = TimeseriesGenerator(x_minmax_train, x_minmax_train, length=52, batch_size=1)"
   ]
  },
  {
   "cell_type": "code",
   "execution_count": 136,
   "metadata": {},
   "outputs": [
    {
     "data": {
      "text/plain": [
       "405"
      ]
     },
     "execution_count": 136,
     "metadata": {},
     "output_type": "execute_result"
    }
   ],
   "source": [
    "len(generated_batches)"
   ]
  },
  {
   "cell_type": "code",
   "execution_count": 137,
   "metadata": {},
   "outputs": [
    {
     "name": "stdout",
     "output_type": "stream",
     "text": [
      "Epoch 1/50\n"
     ]
    },
    {
     "name": "stderr",
     "output_type": "stream",
     "text": [
      "/var/folders/xy/_0zst1c12b9_m_438bw49zw40000gn/T/ipykernel_78548/3455660599.py:8: UserWarning: `Model.fit_generator` is deprecated and will be removed in a future version. Please use `Model.fit`, which supports generators.\n",
      "  model.fit_generator(generated_batches,epochs=50)\n",
      "2023-04-22 18:49:04.498780: I tensorflow/core/grappler/optimizers/custom_graph_optimizer_registry.cc:113] Plugin optimizer for device_type GPU is enabled.\n"
     ]
    },
    {
     "name": "stdout",
     "output_type": "stream",
     "text": [
      "405/405 [==============================] - 2s 5ms/step - loss: 0.0635\n",
      "Epoch 2/50\n",
      "405/405 [==============================] - 2s 5ms/step - loss: 0.0384\n",
      "Epoch 3/50\n",
      "405/405 [==============================] - 2s 5ms/step - loss: 0.0288\n",
      "Epoch 4/50\n",
      "405/405 [==============================] - 2s 5ms/step - loss: 0.0251\n",
      "Epoch 5/50\n",
      "405/405 [==============================] - 2s 5ms/step - loss: 0.0220\n",
      "Epoch 6/50\n",
      "405/405 [==============================] - 2s 5ms/step - loss: 0.0202\n",
      "Epoch 7/50\n",
      "405/405 [==============================] - 2s 5ms/step - loss: 0.0191\n",
      "Epoch 8/50\n",
      "405/405 [==============================] - 2s 5ms/step - loss: 0.0178\n",
      "Epoch 9/50\n",
      "405/405 [==============================] - 2s 5ms/step - loss: 0.0170\n",
      "Epoch 10/50\n",
      "405/405 [==============================] - 2s 5ms/step - loss: 0.0151\n",
      "Epoch 11/50\n",
      "405/405 [==============================] - 2s 5ms/step - loss: 0.0146\n",
      "Epoch 12/50\n",
      "405/405 [==============================] - 2s 5ms/step - loss: 0.0140\n",
      "Epoch 13/50\n",
      "405/405 [==============================] - 2s 5ms/step - loss: 0.0135\n",
      "Epoch 14/50\n",
      "405/405 [==============================] - 2s 5ms/step - loss: 0.0130\n",
      "Epoch 15/50\n",
      "405/405 [==============================] - 2s 5ms/step - loss: 0.0124\n",
      "Epoch 16/50\n",
      "405/405 [==============================] - 2s 5ms/step - loss: 0.0123\n",
      "Epoch 17/50\n",
      "405/405 [==============================] - 2s 5ms/step - loss: 0.0120\n",
      "Epoch 18/50\n",
      "405/405 [==============================] - 2s 5ms/step - loss: 0.0111\n",
      "Epoch 19/50\n",
      "405/405 [==============================] - 2s 5ms/step - loss: 0.0110\n",
      "Epoch 20/50\n",
      "405/405 [==============================] - 2s 5ms/step - loss: 0.0099\n",
      "Epoch 21/50\n",
      "405/405 [==============================] - 2s 5ms/step - loss: 0.0101\n",
      "Epoch 22/50\n",
      "405/405 [==============================] - 2s 5ms/step - loss: 0.0096\n",
      "Epoch 23/50\n",
      "405/405 [==============================] - 2s 5ms/step - loss: 0.0089\n",
      "Epoch 24/50\n",
      "405/405 [==============================] - 2s 5ms/step - loss: 0.0094\n",
      "Epoch 25/50\n",
      "405/405 [==============================] - 2s 5ms/step - loss: 0.0086\n",
      "Epoch 26/50\n",
      "405/405 [==============================] - 2s 5ms/step - loss: 0.0083\n",
      "Epoch 27/50\n",
      "405/405 [==============================] - 2s 5ms/step - loss: 0.0089\n",
      "Epoch 28/50\n",
      "405/405 [==============================] - 2s 5ms/step - loss: 0.0084\n",
      "Epoch 29/50\n",
      "405/405 [==============================] - 2s 5ms/step - loss: 0.0082\n",
      "Epoch 30/50\n",
      "405/405 [==============================] - 2s 5ms/step - loss: 0.0077\n",
      "Epoch 31/50\n",
      "405/405 [==============================] - 2s 5ms/step - loss: 0.0079\n",
      "Epoch 32/50\n",
      "405/405 [==============================] - 2s 5ms/step - loss: 0.0080\n",
      "Epoch 33/50\n",
      "405/405 [==============================] - 2s 5ms/step - loss: 0.0082\n",
      "Epoch 34/50\n",
      "405/405 [==============================] - 2s 5ms/step - loss: 0.0074\n",
      "Epoch 35/50\n",
      "405/405 [==============================] - 2s 5ms/step - loss: 0.0074\n",
      "Epoch 36/50\n",
      "405/405 [==============================] - 2s 5ms/step - loss: 0.0074\n",
      "Epoch 37/50\n",
      "405/405 [==============================] - 2s 5ms/step - loss: 0.0072\n",
      "Epoch 38/50\n",
      "405/405 [==============================] - 2s 5ms/step - loss: 0.0072\n",
      "Epoch 39/50\n",
      "405/405 [==============================] - 2s 5ms/step - loss: 0.0071\n",
      "Epoch 40/50\n",
      "405/405 [==============================] - 2s 5ms/step - loss: 0.0071\n",
      "Epoch 41/50\n",
      "405/405 [==============================] - 2s 5ms/step - loss: 0.0069\n",
      "Epoch 42/50\n",
      "405/405 [==============================] - 2s 5ms/step - loss: 0.0069\n",
      "Epoch 43/50\n",
      "405/405 [==============================] - 2s 5ms/step - loss: 0.0066\n",
      "Epoch 44/50\n",
      "405/405 [==============================] - 2s 5ms/step - loss: 0.0068\n",
      "Epoch 45/50\n",
      "405/405 [==============================] - 2s 5ms/step - loss: 0.0067\n",
      "Epoch 46/50\n",
      "405/405 [==============================] - 2s 5ms/step - loss: 0.0065\n",
      "Epoch 47/50\n",
      "405/405 [==============================] - 2s 5ms/step - loss: 0.0067\n",
      "Epoch 48/50\n",
      "405/405 [==============================] - 2s 5ms/step - loss: 0.0067\n",
      "Epoch 49/50\n",
      "405/405 [==============================] - 2s 5ms/step - loss: 0.0066\n",
      "Epoch 50/50\n",
      "405/405 [==============================] - 2s 5ms/step - loss: 0.0067\n",
      "1/1 [==============================] - 0s 25ms/step\n",
      "1/1 [==============================] - 0s 11ms/step\n",
      "1/1 [==============================] - 0s 11ms/step\n",
      "1/1 [==============================] - 0s 10ms/step\n",
      "1/1 [==============================] - 0s 10ms/step\n",
      "1/1 [==============================] - 0s 11ms/step\n",
      "1/1 [==============================] - 0s 11ms/step\n",
      "1/1 [==============================] - 0s 11ms/step\n"
     ]
    },
    {
     "name": "stderr",
     "output_type": "stream",
     "text": [
      "2023-04-22 18:50:39.346853: I tensorflow/core/grappler/optimizers/custom_graph_optimizer_registry.cc:113] Plugin optimizer for device_type GPU is enabled.\n"
     ]
    },
    {
     "name": "stdout",
     "output_type": "stream",
     "text": [
      "1/1 [==============================] - 0s 10ms/step\n",
      "1/1 [==============================] - 0s 12ms/step\n",
      "1/1 [==============================] - 0s 12ms/step\n",
      "1/1 [==============================] - 0s 11ms/step\n",
      "1/1 [==============================] - 0s 11ms/step\n",
      "1/1 [==============================] - 0s 12ms/step\n",
      "1/1 [==============================] - 0s 11ms/step\n",
      "1/1 [==============================] - 0s 10ms/step\n",
      "1/1 [==============================] - 0s 13ms/step\n",
      "1/1 [==============================] - 0s 10ms/step\n",
      "1/1 [==============================] - 0s 12ms/step\n",
      "1/1 [==============================] - 0s 11ms/step\n",
      "1/1 [==============================] - 0s 11ms/step\n",
      "1/1 [==============================] - 0s 12ms/step\n",
      "1/1 [==============================] - 0s 10ms/step\n",
      "1/1 [==============================] - 0s 11ms/step\n",
      "1/1 [==============================] - 0s 13ms/step\n",
      "1/1 [==============================] - 0s 12ms/step\n",
      "1/1 [==============================] - 0s 11ms/step\n",
      "1/1 [==============================] - 0s 12ms/step\n",
      "1/1 [==============================] - 0s 12ms/step\n",
      "1/1 [==============================] - 0s 10ms/step\n",
      "1/1 [==============================] - 0s 10ms/step\n",
      "1/1 [==============================] - 0s 13ms/step\n",
      "1/1 [==============================] - 0s 11ms/step\n",
      "1/1 [==============================] - 0s 11ms/step\n",
      "1/1 [==============================] - 0s 12ms/step\n",
      "1/1 [==============================] - 0s 12ms/step\n",
      "1/1 [==============================] - 0s 12ms/step\n",
      "1/1 [==============================] - 0s 12ms/step\n",
      "1/1 [==============================] - 0s 10ms/step\n",
      "1/1 [==============================] - 0s 12ms/step\n",
      "1/1 [==============================] - 0s 10ms/step\n",
      "1/1 [==============================] - 0s 11ms/step\n",
      "1/1 [==============================] - 0s 13ms/step\n",
      "1/1 [==============================] - 0s 11ms/step\n",
      "1/1 [==============================] - 0s 11ms/step\n",
      "1/1 [==============================] - 0s 11ms/step\n",
      "1/1 [==============================] - 0s 10ms/step\n",
      "1/1 [==============================] - 0s 12ms/step\n",
      "1/1 [==============================] - 0s 11ms/step\n",
      "1/1 [==============================] - 0s 10ms/step\n",
      "Test RMSE: 3.051\n"
     ]
    },
    {
     "data": {
      "image/png": "[encoded data removed]",
      "text/plain": [
       "<Figure size 640x480 with 1 Axes>"
      ]
     },
     "metadata": {},
     "output_type": "display_data"
    }
   ],
   "source": [
    "# Create the model\n",
    "model = Sequential()\n",
    "model.add(Flatten(input_shape=(52,1)))\n",
    "model.add(Dense(1))\n",
    "model.compile(optimizer='adam', loss='mse')\n",
    "\n",
    "# Fit the model\n",
    "model.fit_generator(generated_batches,epochs=50)\n",
    "\n",
    "# Make predictions\n",
    "test_predictions = []\n",
    "\n",
    "first_eval_batch = x_minmax_train[-52:]\n",
    "current_batch = first_eval_batch.reshape((1, 52, 1))\n",
    "\n",
    "for i in range(len(y_minmax_test)):\n",
    "    current_pred = model.predict(current_batch)[0]\n",
    "    test_predictions.append(current_pred)\n",
    "    current_batch = np.append(current_batch[:,1:,:],[[current_pred]],axis=1)\n",
    "\n",
    "true_predictions = scaler.inverse_transform(test_predictions)\n",
    "\n",
    "# Plot the predictions\n",
    "test_predictions = pd.Series(true_predictions.reshape(50,))\n",
    "y_uni_test = pd.Series(y_uni_test.reshape(50,))\n",
    "plt.plot(y_uni_test, label='Test Data')\n",
    "plt.plot(test_predictions, label='Predictions')\n",
    "plt.legend()\n",
    "\n",
    "# Evaluate the model\n",
    "from sklearn.metrics import mean_squared_error\n",
    "from math import sqrt\n",
    "\n",
    "rmse = sqrt(mean_squared_error(y_uni_test, test_predictions))\n",
    "print('Test RMSE: %.3f' % rmse)"
   ]
  },
  {
   "cell_type": "code",
   "execution_count": null,
   "metadata": {},
   "outputs": [],
   "source": []
  }
 ],
 "metadata": {
  "kernelspec": {
   "display_name": "bachelor2023",
   "language": "python",
   "name": "python3"
  },
  "language_info": {
   "codemirror_mode": {
    "name": "ipython",
    "version": 3
   },
   "file_extension": ".py",
   "mimetype": "text/x-python",
   "name": "python",
   "nbconvert_exporter": "python",
   "pygments_lexer": "ipython3",
   "version": "3.10.11"
  },
  "orig_nbformat": 4
 },
 "nbformat": 4,
 "nbformat_minor": 2
}
